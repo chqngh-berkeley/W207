{
 "cells": [
  {
   "cell_type": "markdown",
   "metadata": {},
   "source": [
    "# Project 2: Topic Classification"
   ]
  },
  {
   "cell_type": "markdown",
   "metadata": {},
   "source": [
    "In this project, you'll work with text data from newsgroup postings on a variety of topics. You'll train classifiers to distinguish between the topics based on the text of the posts. Whereas with digit classification, the input is relatively dense: a 28x28 matrix of pixels, many of which are non-zero, here we'll represent each document with a \"bag-of-words\" model. As you'll see, this makes the feature representation quite sparse -- only a few words of the total vocabulary are active in any given document. The bag-of-words assumption here is that the label depends only on the words; their order is not important.\n",
    "\n",
    "The SK-learn documentation on feature extraction will prove useful:\n",
    "http://scikit-learn.org/stable/modules/feature_extraction.html\n",
    "\n",
    "Each problem can be addressed succinctly with the included packages -- please don't add any more. Grading will be based on writing clean, commented code, along with a few short answers.\n",
    "\n",
    "As always, you're welcome to work on the project in groups and discuss ideas on the course wall, but please prepare your own write-up and write your own code."
   ]
  },
  {
   "cell_type": "code",
   "execution_count": 2,
   "metadata": {
    "collapsed": false
   },
   "outputs": [],
   "source": [
    "# This tells matplotlib not to try opening a new window for each plot.\n",
    "%matplotlib inline\n",
    "\n",
    "# General libraries.\n",
    "import re\n",
    "import numpy as np\n",
    "import matplotlib.pyplot as plt\n",
    "\n",
    "# SK-learn libraries for learning.\n",
    "from sklearn.pipeline import Pipeline\n",
    "from sklearn.neighbors import KNeighborsClassifier\n",
    "from sklearn.linear_model import LogisticRegression\n",
    "from sklearn.naive_bayes import BernoulliNB\n",
    "from sklearn.naive_bayes import MultinomialNB\n",
    "from sklearn.grid_search import GridSearchCV\n",
    "\n",
    "# SK-learn libraries for evaluation.\n",
    "from sklearn.metrics import confusion_matrix\n",
    "from sklearn import metrics\n",
    "from sklearn.metrics import classification_report\n",
    "\n",
    "# SK-learn library for importing the newsgroup data.\n",
    "from sklearn.datasets import fetch_20newsgroups\n",
    "\n",
    "# SK-learn libraries for feature extraction from text.\n",
    "from sklearn.feature_extraction.text import *"
   ]
  },
  {
   "cell_type": "code",
   "execution_count": null,
   "metadata": {
    "collapsed": true
   },
   "outputs": [],
   "source": []
  },
  {
   "cell_type": "markdown",
   "metadata": {},
   "source": [
    "Load the data, stripping out metadata so that we learn classifiers that only use textual features. By default, newsgroups data is split into train and test sets. We further split the test so we have a dev set. Note that we specify 4 categories to use for this project. If you remove the categories argument from the fetch function, you'll get all 20 categories."
   ]
  },
  {
   "cell_type": "code",
   "execution_count": 3,
   "metadata": {
    "collapsed": false
   },
   "outputs": [
    {
     "name": "stdout",
     "output_type": "stream",
     "text": [
      "training label shape: (2034,)\n",
      "test label shape: (677,)\n",
      "dev label shape: (676,)\n",
      "labels names: ['alt.atheism', 'comp.graphics', 'sci.space', 'talk.religion.misc']\n"
     ]
    }
   ],
   "source": [
    "categories = ['alt.atheism', 'talk.religion.misc', 'comp.graphics', 'sci.space']\n",
    "newsgroups_train = fetch_20newsgroups(subset='train',\n",
    "                                      remove=('headers', 'footers', 'quotes'),\n",
    "                                      categories=categories)\n",
    "newsgroups_test = fetch_20newsgroups(subset='test',\n",
    "                                     remove=('headers', 'footers', 'quotes'),\n",
    "                                     categories=categories)\n",
    "\n",
    "num_test = len(newsgroups_test.target)\n",
    "test_data, test_labels = newsgroups_test.data[num_test/2:], newsgroups_test.target[num_test/2:]\n",
    "dev_data, dev_labels = newsgroups_test.data[:num_test/2], newsgroups_test.target[:num_test/2]\n",
    "train_data, train_labels = newsgroups_train.data, newsgroups_train.target\n",
    "\n",
    "print 'training label shape:', train_labels.shape\n",
    "print 'test label shape:', test_labels.shape\n",
    "print 'dev label shape:', dev_labels.shape\n",
    "print 'labels names:', newsgroups_train.target_names"
   ]
  },
  {
   "cell_type": "markdown",
   "metadata": {},
   "source": [
    "(1) For each of the first 5 training examples, print the text of the message along with the label.\n",
    "\n",
    "[2 pts]"
   ]
  },
  {
   "cell_type": "code",
   "execution_count": 4,
   "metadata": {
    "collapsed": false
   },
   "outputs": [
    {
     "name": "stdout",
     "output_type": "stream",
     "text": [
      "Label:talk.religion.misc\n",
      "Text:Hi,\n",
      "\n",
      "I've noticed that if you only save a model (with all your mapping planes\n",
      "positioned carefully) to a .3DS file that when you reload it after restarting\n",
      "3DS, they are given a default position and orientation.  But if you save\n",
      "to a .PRJ file their positions/orientation are preserved.  Does anyone\n",
      "know why this information is not stored in the .3DS file?  Nothing is\n",
      "explicitly said in the manual about saving texture rules in the .PRJ file. \n",
      "I'd like to be able to read the texture rule information, does anyone have \n",
      "the format for the .PRJ file?\n",
      "\n",
      "Is the .CEL file format available from somewhere?\n",
      "\n",
      "Rych\n",
      "------------------------------------------------\n",
      "Label:sci.space\n",
      "Text:\n",
      "\n",
      "Seems to be, barring evidence to the contrary, that Koresh was simply\n",
      "another deranged fanatic who thought it neccessary to take a whole bunch of\n",
      "folks with him, children and all, to satisfy his delusional mania. Jim\n",
      "Jones, circa 1993.\n",
      "\n",
      "\n",
      "Nope - fruitcakes like Koresh have been demonstrating such evil corruption\n",
      "for centuries.\n",
      "------------------------------------------------\n",
      "Label:comp.graphics\n",
      "Text:\n",
      " >In article <1993Apr19.020359.26996@sq.sq.com>, msb@sq.sq.com (Mark Brader) \n",
      "\n",
      "MB>                                                             So the\n",
      "MB> 1970 figure seems unlikely to actually be anything but a perijove.\n",
      "\n",
      "JG>Sorry, _perijoves_...I'm not used to talking this language.\n",
      "\n",
      "Couldn't we just say periapsis or apoapsis?\n",
      "\n",
      " \n",
      "------------------------------------------------\n",
      "Label:alt.atheism\n",
      "Text:I have a request for those who would like to see Charley Wingate\n",
      "respond to the \"Charley Challenges\" (and judging from my e-mail, there\n",
      "appear to be quite a few of you.)  \n",
      "\n",
      "It is clear that Mr. Wingate intends to continue to post tangential or\n",
      "unrelated articles while ingoring the Challenges themselves.  Between\n",
      "the last two re-postings of the Challenges, I noted perhaps a dozen or\n",
      "more posts by Mr. Wingate, none of which answered a single Challenge.  \n",
      "\n",
      "It seems unmistakable to me that Mr. Wingate hopes that the questions\n",
      "will just go away, and he is doing his level best to change the\n",
      "subject.  Given that this seems a rather common net.theist tactic, I\n",
      "would like to suggest that we impress upon him our desire for answers,\n",
      "in the following manner:\n",
      "\n",
      "1. Ignore any future articles by Mr. Wingate that do not address the\n",
      "Challenges, until he answers them or explictly announces that he\n",
      "refuses to do so.\n",
      "\n",
      "--or--\n",
      "\n",
      "2. If you must respond to one of his articles, include within it\n",
      "something similar to the following:\n",
      "\n",
      "    \"Please answer the questions posed to you in the Charley Challenges.\"\n",
      "\n",
      "Really, I'm not looking to humiliate anyone here, I just want some\n",
      "honest answers.  You wouldn't think that honesty would be too much to\n",
      "ask from a devout Christian, would you?  \n",
      "\n",
      "Nevermind, that was a rhetorical question.\n",
      "------------------------------------------------\n",
      "Label:comp.graphics\n",
      "Text:AW&ST  had a brief blurb on a Manned Lunar Exploration confernce\n",
      "May 7th  at Crystal City Virginia, under the auspices of AIAA.\n",
      "\n",
      "Does anyone know more about this?  How much, to attend????\n",
      "\n",
      "Anyone want to go?\n",
      "------------------------------------------------\n"
     ]
    }
   ],
   "source": [
    "def P1(num_examples=5):\n",
    "### STUDENT START ###\n",
    "    for i in range(num_examples):\n",
    "        print 'Label:' + categories[train_labels[i]]\n",
    "        print 'Text:' + train_data[i] \n",
    "        print '------------------------------------------------'\n",
    "        \n",
    "\n",
    "\n",
    "### STUDENT END ###\n",
    "P1(5)"
   ]
  },
  {
   "cell_type": "markdown",
   "metadata": {},
   "source": [
    "(2) Use CountVectorizer to turn the raw training text into feature vectors. You should use the fit_transform function, which makes 2 passes through the data: first it computes the vocabulary (\"fit\"), second it converts the raw text into feature vectors using the vocabulary (\"transform\").\n",
    "\n",
    "The vectorizer has a lot of options. To get familiar with some of them, write code to answer these questions:\n",
    "\n",
    "a. The output of the transform (also of fit_transform) is a sparse matrix: http://docs.scipy.org/doc/scipy-0.14.0/reference/generated/scipy.sparse.csr_matrix.html. What is the size of the vocabulary? What is the average number of non-zero features per example? What fraction of the entries in the matrix are non-zero? Hint: use \"nnz\" and \"shape\" attributes.\n",
    "\n",
    "b. What are the 0th and last feature strings (in alphabetical order)? Hint: use the vectorizer's get_feature_names function.\n",
    "\n",
    "c. Specify your own vocabulary with 4 words: [\"atheism\", \"graphics\", \"space\", \"religion\"]. Confirm the training vectors are appropriately shaped. Now what's the average number of non-zero features per example?\n",
    "\n",
    "d. Instead of extracting unigram word features, use \"analyzer\" and \"ngram_range\" to extract bigram and trigram character features. What size vocabulary does this yield?\n",
    "\n",
    "e. Use the \"min_df\" argument to prune words that appear in fewer than 10 documents. What size vocabulary does this yield?\n",
    "\n",
    "f. Using the standard CountVectorizer, what fraction of the words in the dev data are missing from the vocabulary? Hint: build a vocabulary for both train and dev and look at the size of the difference.\n",
    "\n",
    "[6 pts]"
   ]
  },
  {
   "cell_type": "code",
   "execution_count": 5,
   "metadata": {
    "collapsed": false
   },
   "outputs": [
    {
     "name": "stdout",
     "output_type": "stream",
     "text": [
      "A: out of transform\n",
      "Vocabulary size: 26879\n",
      "avg num of nonzeros per example: 96.7059980334\n",
      "fraction of non-zero entries in matrix:  0.00359782722696\n",
      "\n",
      "B: 0th and last feature strings\n",
      "00 zyxel\n",
      "\n",
      "C: \n",
      "Vocabulary Size: 4\n",
      "avg num of nonzeros per example: 0.268436578171\n",
      "\n",
      "D: Bigram and Trigram\n",
      "Bigram Vocab:  221770\n",
      "Trigram Vocab:  537462\n",
      "\n",
      "E: min_df=10\n",
      "min_df=10 vocab size: 3064\n",
      "\n",
      "F: diff between train and dev data vocab\n",
      "dev data vocab size: 16246\n",
      "train data vocab size: 26879\n",
      "train_data vocab size - dev_data vocab size:  10633\n",
      "\n"
     ]
    }
   ],
   "source": [
    "def P2():\n",
    "## STUDENT START ###\n",
    "    from sklearn.feature_extraction.text import CountVectorizer\n",
    "    cvec = CountVectorizer()\n",
    "#a\n",
    "    t_train = cvec.fit_transform(train_data)\n",
    "    vocab_size = len(cvec.vocabulary_)\n",
    "    print \"A: out of transform\"\n",
    "    print \"Vocabulary size:\", vocab_size\n",
    "    print \"avg num of nonzeros per example:\", t_train.nnz * 1.0 / t_train.shape[0]\n",
    "    print \"fraction of non-zero entries in matrix: \", t_train.nnz*1.0 / (t_train.shape[0] * t_train.shape[1])\n",
    "    print ''\n",
    "#b\n",
    "    featurenames = cvec.get_feature_names()\n",
    "    print \"B: 0th and last feature strings\"\n",
    "    print featurenames[0], featurenames[-1]\n",
    "    print ''\n",
    "#c\n",
    "\n",
    "    myvocab =  [\"atheism\", \"graphics\", \"space\", \"religion\"]\n",
    "    cvec_c = CountVectorizer(vocabulary=myvocab)\n",
    "    t_train_c = cvec_c.fit_transform(train_data)\n",
    "    vocab_size_c = len(cvec_c.vocabulary_)\n",
    "    print \"C: \"\n",
    "    print \"Vocabulary Size:\", vocab_size_c\n",
    "    print \"avg num of nonzeros per example:\", t_train_c.nnz * 1.0 / t_train_c.shape[0]\n",
    "    print ''\n",
    "\n",
    "#d\n",
    "    bigram_vectorizer = CountVectorizer(ngram_range=(1, 2))\n",
    "    trigram_vectorizer = CountVectorizer(ngram_range=(1, 3))\n",
    "    t_train_bigram = bigram_vectorizer.fit_transform(train_data)\n",
    "    t_train_trigram = trigram_vectorizer.fit_transform(train_data)\n",
    "    print \"D: Bigram and Trigram\"\n",
    "    print 'Bigram Vocab: ', len(bigram_vectorizer.vocabulary_)\n",
    "    print 'Trigram Vocab: ', len(trigram_vectorizer.vocabulary_)\n",
    "    print ''\n",
    "#e\n",
    "    cvec_e = CountVectorizer(min_df=10)\n",
    "    t_train_e = cvec_e.fit_transform(train_data)\n",
    "    vocab_size_e = cvec_e.vocabulary_\n",
    "    print \"E: min_df=10\"\n",
    "    print 'min_df=10 vocab size:', len(vocab_size_e)\n",
    "    print ''\n",
    "#f\n",
    "    print \"F: diff between train and dev data vocab\"\n",
    "    cvec_f1 = CountVectorizer()\n",
    "    cvec_f1.fit_transform(dev_data)\n",
    "    cvec_f2 = CountVectorizer()\n",
    "    cvec_f2.fit_transform(train_data)\n",
    "    print \"dev data vocab size:\", len(cvec_f1.vocabulary_)\n",
    "    print \"train data vocab size:\", len(cvec_f2.vocabulary_)\n",
    "    print \"train_data vocab size - dev_data vocab size: \", len(cvec_f2.vocabulary_) - len(cvec_f1.vocabulary_)\n",
    "    print ''\n",
    "    \n",
    "## STUDENT END ###\n",
    "P2()"
   ]
  },
  {
   "cell_type": "markdown",
   "metadata": {},
   "source": [
    "(3) Use the default CountVectorizer options and report the f1 score (use metrics.f1_score) for a k nearest neighbors classifier; find the optimal value for k. Also fit a Multinomial Naive Bayes model and find the optimal value for alpha. Finally, fit a logistic regression model and find the optimal value for the regularization strength C using l2 regularization. A few questions:\n",
    "\n",
    "a. Why doesn't nearest neighbors work well for this problem?\n",
    "\n",
    "b. Any ideas why logistic regression doesn't work as well as Naive Bayes?\n",
    "\n",
    "c. Logistic regression estimates a weight vector for each class, which you can access with the coef\\_ attribute. Output the sum of the squared weight values for each class for each setting of the C parameter. Briefly explain the relationship between the sum and the value of C.\n",
    "\n",
    "[4 pts]"
   ]
  },
  {
   "cell_type": "code",
   "execution_count": 105,
   "metadata": {
    "collapsed": false
   },
   "outputs": [
    {
     "name": "stdout",
     "output_type": "stream",
     "text": [
      "[ 0.37597911  0.48396501  0.43148688  0.23859649]\n",
      "0.388478581979\n",
      "0.767708659611\n",
      "0.766617429838\n",
      "0.737963877664\n",
      "0.744460856721\n"
     ]
    }
   ],
   "source": [
    "def P3():\n",
    "### STUDENT START ###\n",
    "    kn_clf = Pipeline([('vect', CountVectorizer()),\n",
    "                         ('knclf', KNeighborsClassifier())]);\n",
    "    kn_clf = kn_clf.fit(train_data, train_labels)\n",
    "    pred = kn_clf.predict(test_data)\n",
    "    print metrics.f1_score(test_labels, pred, average=None)\n",
    "    print metrics.accuracy_score(test_labels,pred)\n",
    "#a\n",
    "#b\n",
    "    mnb_clf = Pipeline([('vect', CountVectorizer()),\n",
    "                         ('mnclf', MultinomialNB())]);\n",
    "    mnb_clf = mnb_clf.fit(train_data, train_labels)\n",
    "    pred = mnb_clf.predict(test_data)\n",
    "    print metrics.f1_score(test_labels, pred, average='weighted')\n",
    "    print metrics.accuracy_score(test_labels,pred)\n",
    "\n",
    "#c\n",
    "    log_clf = Pipeline([('vect', CountVectorizer()),\n",
    "                         ('lgclf', LogisticRegression(C=0.1))]);\n",
    "    log_clf = log_clf.fit(train_data, train_labels)\n",
    "    pred = log_clf.predict(test_data)\n",
    "    print metrics.f1_score(test_labels, pred, average='weighted')\n",
    "    print metrics.accuracy_score(test_labels,pred)\n",
    "    weights = log_clf.named_steps['lgclf'].coef_\n",
    "\n",
    "\n",
    "### STUDENT END ###\n",
    "P3()"
   ]
  },
  {
   "cell_type": "markdown",
   "metadata": {},
   "source": [
    "ANSWER:"
   ]
  },
  {
   "cell_type": "markdown",
   "metadata": {},
   "source": [
    "(4) Train a logistic regression model. Find the 5 features with the largest weights for each label -- 20 features in total. Create a table with 20 rows and 4 columns that shows the weight for each of these features for each of the labels. Create the table again with bigram features. Any surprising features in this table?\n",
    "\n",
    "[5 pts]"
   ]
  },
  {
   "cell_type": "code",
   "execution_count": 22,
   "metadata": {
    "collapsed": false
   },
   "outputs": [
    {
     "name": "stdout",
     "output_type": "stream",
     "text": [
      "                    precision    recall  f1-score   support\n",
      "\n",
      "       alt.atheism       0.64      0.60      0.62       154\n",
      "talk.religion.misc       0.82      0.89      0.85       204\n",
      "     comp.graphics       0.78      0.80      0.79       195\n",
      "         sci.space       0.64      0.56      0.59       124\n",
      "\n",
      "       avg / total       0.73      0.74      0.73       677\n",
      "\n",
      "0.738552437223\n",
      "label 1 \tlabel 2 \tlabel 3 \tlabel 4\n",
      "1.12508177938 \t1.93657411939 \t2.16258120443 \t1.14737513368\n",
      "1.0314304977 \t1.34593184196 \t1.22509675032 \t1.11695669401\n",
      "0.989697477191 \t1.26621564383 \t1.01142794935 \t1.05460928274\n",
      "0.953899227946 \t1.12493558979 \t0.936564906735 \t0.912752341782\n",
      "0.93998190407 \t0.977813995928 \t0.920343476009 \t0.904666184262\n",
      "0.869636439326 \t0.910184128431 \t0.825435807612 \t0.825315541667\n",
      "0.799656442115 \t0.871665765913 \t0.802353691448 \t0.757832730994\n",
      "0.789921015443 \t0.851600252012 \t0.751634319108 \t0.73180960665\n",
      "0.788987127133 \t0.82728686158 \t0.709321173164 \t0.693178931693\n",
      "0.779978352769 \t0.821169562541 \t0.708227625729 \t0.687954090743\n",
      "0.776720279251 \t0.775142622308 \t0.689633042473 \t0.673218807738\n",
      "0.763007613293 \t0.771849838566 \t0.680407813416 \t0.670825896711\n",
      "0.760401860334 \t0.765589308488 \t0.668784904948 \t0.668652740966\n",
      "0.748291547654 \t0.759699199939 \t0.662016495116 \t0.646934341394\n",
      "0.737409542226 \t0.750392779944 \t0.64670238858 \t0.640002757235\n",
      "0.72863255197 \t0.724497059021 \t0.637678645813 \t0.638189597186\n",
      "0.71662310218 \t0.72130664738 \t0.634069761833 \t0.637331303844\n",
      "0.706527810643 \t0.717242039103 \t0.624281954633 \t0.63307508511\n",
      "0.701007881021 \t0.673406877288 \t0.622727412127 \t0.632237382044\n",
      "0.682063233017 \t0.660784043744 \t0.619313410132 \t0.617912121654\n",
      "\n",
      "bigram features: \n",
      "                    precision    recall  f1-score   support\n",
      "\n",
      "       alt.atheism       0.60      0.58      0.59       154\n",
      "talk.religion.misc       0.81      0.90      0.85       204\n",
      "     comp.graphics       0.77      0.81      0.79       195\n",
      "         sci.space       0.67      0.52      0.59       124\n",
      "\n",
      "       avg / total       0.72      0.73      0.73       677\n",
      "\n",
      "0.731166912851\n",
      "label 1 \tlabel 2 \tlabel 3 \tlabel 4\n",
      "1.17909667974 \t1.51272011945 \t1.86509440353 \t0.845627642781\n",
      "0.754848455727 \t0.945529668276 \t0.827396584558 \t0.777979557439\n",
      "0.645664461908 \t0.943689473173 \t0.786069055684 \t0.645650982523\n",
      "0.610600985333 \t0.765623091734 \t0.668476907486 \t0.552901156191\n",
      "0.598618917799 \t0.690546349058 \t0.56280710564 \t0.545162377099\n",
      "0.597601549051 \t0.688908881722 \t0.521619276674 \t0.504661970278\n",
      "0.577043611907 \t0.65946027521 \t0.506712423741 \t0.496826524335\n",
      "0.560554290835 \t0.638253374292 \t0.486311236772 \t0.496813223144\n",
      "0.529766352426 \t0.632454266397 \t0.479588196434 \t0.494959985387\n",
      "0.523224627273 \t0.619804655692 \t0.472017504116 \t0.494195054104\n",
      "0.478142380406 \t0.576921648499 \t0.468509122734 \t0.488762834288\n",
      "0.47765081733 \t0.568495477412 \t0.461260450191 \t0.485767227738\n",
      "0.475659741883 \t0.556237073619 \t0.461258791037 \t0.469164678228\n",
      "0.455970449465 \t0.549129062657 \t0.461255637114 \t0.46341022876\n",
      "0.442042169221 \t0.518073315934 \t0.45140028034 \t0.460357174649\n",
      "0.430716723404 \t0.513129194579 \t0.44794795671 \t0.460355331923\n",
      "0.428766611696 \t0.504877536981 \t0.444040409963 \t0.459259667065\n",
      "0.428028511045 \t0.497050597255 \t0.443396558865 \t0.451754540349\n",
      "0.42514865448 \t0.493320084322 \t0.437750285629 \t0.449160924452\n",
      "0.423746430539 \t0.492081626958 \t0.433483552687 \t0.441431866772\n",
      "\n"
     ]
    }
   ],
   "source": [
    "def P4():\n",
    "### STUDENT START ###\n",
    "    log_clf = Pipeline([('vect', CountVectorizer()),\n",
    "                         ('lgclf', LogisticRegression())]);\n",
    "    log_clf = log_clf.fit(train_data, train_labels)\n",
    "    pred = log_clf.predict(test_data)\n",
    "    print(metrics.classification_report(test_labels, pred,\n",
    "               target_names=categories))\n",
    "    print metrics.accuracy_score(test_labels,pred)\n",
    "    \n",
    "    weights = log_clf.named_steps['lgclf'].coef_\n",
    "    sorted_weights = [];\n",
    "    for w in range(weights.shape[0]):\n",
    "            sorted_weights.append(sorted(weights[w],reverse=True))\n",
    "    print 'label 1', '\\t','label 2', '\\t','label 3', '\\t','label 4'\n",
    "    for row in range(20):\n",
    "        print sorted_weights[0][row], '\\t',sorted_weights[1][row],'\\t',sorted_weights[2][row],'\\t',sorted_weights[3][row]\n",
    "    \n",
    "    print ''\n",
    "    \n",
    "    print 'bigram features: '\n",
    "    bigram_vectorizer = Pipeline([('vect', CountVectorizer(ngram_range=(1, 2))),\n",
    "                         ('lgclf', LogisticRegression())]);\n",
    "    bigram_vectorizer = bigram_vectorizer.fit(train_data, train_labels)\n",
    "    pred = bigram_vectorizer.predict(test_data)\n",
    "    print(metrics.classification_report(test_labels, pred,\n",
    "               target_names=categories))\n",
    "    print metrics.accuracy_score(test_labels,pred)\n",
    "    \n",
    "    weights = bigram_vectorizer.named_steps['lgclf'].coef_\n",
    "    sorted_weights = [];\n",
    "    for w in range(weights.shape[0]):\n",
    "            sorted_weights.append(sorted(weights[w],reverse=True))\n",
    "    print 'label 1', '\\t','label 2', '\\t','label 3', '\\t','label 4'\n",
    "    for row in range(20):\n",
    "        print sorted_weights[0][row], '\\t',sorted_weights[1][row],'\\t',sorted_weights[2][row],'\\t',sorted_weights[3][row]\n",
    "    \n",
    "    print ''\n",
    "\n",
    "        \n",
    "### STUDENT END ###\n",
    "P4()"
   ]
  },
  {
   "cell_type": "markdown",
   "metadata": {},
   "source": [
    "ANSWER:"
   ]
  },
  {
   "cell_type": "markdown",
   "metadata": {},
   "source": [
    "(5) Try to improve the logistic regression classifier by passing a custom preprocessor to CountVectorizer. The preprocessing function runs on the raw text, before it is split into words by the tokenizer. Your preprocessor should try to normalize the input in various ways to improve generalization. For example, try lowercasing everything, replacing sequences of numbers with a single token, removing various other non-letter characters, and shortening long words. If you're not already familiar with regular expressions for manipulating strings, see https://docs.python.org/2/library/re.html, and re.sub() in particular. With your new preprocessor, how much did you reduce the size of the dictionary?\n",
    "\n",
    "For reference, I was able to improve dev F1 by 2 points.\n",
    "\n",
    "[4 pts]"
   ]
  },
  {
   "cell_type": "code",
   "execution_count": 39,
   "metadata": {
    "collapsed": false
   },
   "outputs": [
    {
     "name": "stdout",
     "output_type": "stream",
     "text": [
      "                    precision    recall  f1-score   support\n",
      "\n",
      "       alt.atheism       0.64      0.62      0.63       154\n",
      "talk.religion.misc       0.87      0.84      0.85       204\n",
      "     comp.graphics       0.74      0.85      0.79       195\n",
      "         sci.space       0.65      0.57      0.61       124\n",
      "\n",
      "       avg / total       0.74      0.74      0.74       677\n",
      "\n",
      "0.741506646972\n",
      "vocab size: 24029\n"
     ]
    }
   ],
   "source": [
    "def empty_preprocessor(s):\n",
    "    return s\n",
    "\n",
    "def better_preprocessor(s):\n",
    "### STUDENT START ###\n",
    "    repl = re.sub('&', 'and', s)\n",
    "    repl = repl.lower()\n",
    "    repl = repl.replace('0',' zero ')\n",
    "    repl = repl.replace('1',' one ')\n",
    "    repl = repl.replace('2',' two ')\n",
    "    repl = repl.replace('3',' three ')\n",
    "    repl = repl.replace('4',' four ')\n",
    "    repl = repl.replace('5',' five ')\n",
    "    repl = repl.replace('6',' six ')\n",
    "    repl = repl.replace('7',' seven ')\n",
    "    repl = repl.replace('8',' eight ')\n",
    "    repl = repl.replace('9',' nine ')\n",
    "    repl = re.sub('[^a-zA-Z]+', ' ', repl)\n",
    "    return repl\n",
    "\n",
    "### STUDENT END ###\n",
    "\n",
    "def P5():\n",
    "### STUDENT START ###\n",
    "    log_clf = Pipeline([('vect', CountVectorizer(preprocessor=better_preprocessor)),\n",
    "                         ('lgclf', LogisticRegression())]);\n",
    "    log_clf = log_clf.fit(train_data, train_labels)\n",
    "    pred = log_clf.predict(test_data)\n",
    "    print(metrics.classification_report(test_labels, pred,\n",
    "               target_names=categories))\n",
    "    print metrics.accuracy_score(test_labels,pred)\n",
    "    print 'vocab size:', len(log_clf.named_steps['vect'].vocabulary_)\n",
    "### STUDENT END ###\n",
    "P5()"
   ]
  },
  {
   "cell_type": "markdown",
   "metadata": {},
   "source": [
    "(6) The idea of regularization is to avoid learning very large weights (which are likely to fit the training data, but not generalize well) by adding a penalty to the total size of the learned weights. That is, logistic regression seeks the set of weights that minimizes errors in the training data AND has a small size. The default regularization, L2, computes this size as the sum of the squared weights (see P3, above). L1 regularization computes this size as the sum of the absolute values of the weights. The result is that whereas L2 regularization makes all the weights relatively small, L1 regularization drives lots of the weights to 0, effectively removing unimportant features.\n",
    "\n",
    "Train a logistic regression model using a \"l1\" penalty. Output the number of learned weights that are not equal to zero. How does this compare to the number of non-zero weights you get with \"l2\"? Now, reduce the size of the vocabulary by keeping only those features that have at least one non-zero weight and retrain a model using \"l2\".\n",
    "\n",
    "Make a plot showing accuracy of the re-trained model vs. the vocabulary size you get when pruning unused features by adjusting the C parameter.\n",
    "\n",
    "Note: The gradient descent code that trains the logistic regression model sometimes has trouble converging with extreme settings of the C parameter. Relax the convergence criteria by setting tol=.01 (the default is .0001).\n",
    "\n",
    "[4 pts]"
   ]
  },
  {
   "cell_type": "code",
   "execution_count": 48,
   "metadata": {
    "collapsed": false
   },
   "outputs": [
    {
     "name": "stdout",
     "output_type": "stream",
     "text": [
      "                    precision    recall  f1-score   support\n",
      "\n",
      "       alt.atheism       0.60      0.56      0.58       154\n",
      "talk.religion.misc       0.74      0.88      0.81       204\n",
      "     comp.graphics       0.68      0.77      0.72       195\n",
      "         sci.space       0.69      0.37      0.48       124\n",
      "\n",
      "       avg / total       0.68      0.68      0.67       677\n",
      "\n",
      "0.683899556869\n"
     ]
    }
   ],
   "source": [
    "def P6():\n",
    "    # Keep this random seed here to make comparison easier.\n",
    "    np.random.seed(0)\n",
    "\n",
    "    ### STUDENT START ###\n",
    "    log_clf = Pipeline([('vect', CountVectorizer()),\n",
    "                         ('lgclf', LogisticRegression(penalty='l1', C=0.1, tol=0.1))]);\n",
    "    log_clf = log_clf.fit(train_data, train_labels)\n",
    "    pred = log_clf.predict(test_data)\n",
    "    print(metrics.classification_report(test_labels, pred,\n",
    "               target_names=categories))\n",
    "    print metrics.accuracy_score(test_labels,pred)\n",
    "    weights = log_clf.named_steps['lgclf'].coef_\n",
    "    \n",
    "    ### STUDENT END ###\n",
    "P6()"
   ]
  },
  {
   "cell_type": "markdown",
   "metadata": {},
   "source": [
    "(7) Use the TfidfVectorizer -- how is this different from the CountVectorizer? Train a logistic regression model with C=100.\n",
    "\n",
    "Make predictions on the dev data and show the top 3 documents where the ratio R is largest, where R is:\n",
    "\n",
    "maximum predicted probability / predicted probability of the correct label\n",
    "\n",
    "What kinds of mistakes is the model making? Suggest a way to address one particular issue that you see.\n",
    "\n",
    "[4 pts]"
   ]
  },
  {
   "cell_type": "code",
   "execution_count": 10,
   "metadata": {
    "collapsed": false
   },
   "outputs": [
    {
     "name": "stdout",
     "output_type": "stream",
     "text": [
      "                    precision    recall  f1-score   support\n",
      "\n",
      "       alt.atheism       0.69      0.62      0.65       165\n",
      "talk.religion.misc       0.80      0.91      0.85       185\n",
      "     comp.graphics       0.83      0.83      0.83       199\n",
      "         sci.space       0.68      0.64      0.66       127\n",
      "\n",
      "       avg / total       0.76      0.76      0.76       676\n",
      "\n",
      "0.763313609467\n"
     ]
    }
   ],
   "source": [
    "def P7():\n",
    "    ### STUDENT START ###\n",
    "    from sklearn.feature_extraction.text import TfidfVectorizer\n",
    "    tfid_vec = Pipeline([('tfidvec', TfidfVectorizer()),\n",
    "                        ('log_clf', LogisticRegression(C=100))])\n",
    "    tfid_vec = tfid_vec.fit(train_data, train_labels)\n",
    "    pred = tfid_vec.predict(dev_data)\n",
    "    print(metrics.classification_report(dev_labels, pred,\n",
    "               target_names=categories))\n",
    "    print metrics.accuracy_score(dev_labels,pred)\n",
    "\n",
    "    ### STUDENT END ###\n",
    "P7()"
   ]
  },
  {
   "cell_type": "markdown",
   "metadata": {},
   "source": [
    "ANSWER:"
   ]
  },
  {
   "cell_type": "markdown",
   "metadata": {},
   "source": [
    "(8) EXTRA CREDIT\n",
    "\n",
    "Try implementing one of your ideas based on your error analysis. Use logistic regression as your underlying model.\n",
    "\n",
    "- [1 pt] for a reasonable attempt\n",
    "- [2 pts] for improved performance"
   ]
  }
 ],
 "metadata": {
  "anaconda-cloud": {},
  "kernelspec": {
   "display_name": "Python [py2]",
   "language": "python",
   "name": "Python [py2]"
  },
  "language_info": {
   "codemirror_mode": {
    "name": "ipython",
    "version": 2
   },
   "file_extension": ".py",
   "mimetype": "text/x-python",
   "name": "python",
   "nbconvert_exporter": "python",
   "pygments_lexer": "ipython2",
   "version": "2.7.12"
  }
 },
 "nbformat": 4,
 "nbformat_minor": 0
}
